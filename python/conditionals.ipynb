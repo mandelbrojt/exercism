{
 "cells": [
  {
   "cell_type": "markdown",
   "metadata": {},
   "source": [
    "# Conditionals"
   ]
  },
  {
   "cell_type": "markdown",
   "metadata": {},
   "source": [
    "In Python, `if`, `elif` and `else` statements are used to [control the flow](https://docs.python.org/3/tutorial/controlflow.html#more-control-flow-tools) of execution and make decisions in a program.  \n",
    "\n",
    "**Python 3.10** introduces a variant case-switch statement called `pattern matching`.  \n",
    "\n",
    "[Boolean operations](https://docs.python.org/3/library/stdtypes.html#boolean-operations-and-or-not) and [comparisons](https://docs.python.org/3/library/stdtypes.html#comparisons) can be combined with conditionals for more complex testing."
   ]
  },
  {
   "cell_type": "code",
   "execution_count": null,
   "metadata": {},
   "outputs": [],
   "source": []
  }
 ],
 "metadata": {
  "language_info": {
   "name": "python"
  },
  "orig_nbformat": 4
 },
 "nbformat": 4,
 "nbformat_minor": 2
}
