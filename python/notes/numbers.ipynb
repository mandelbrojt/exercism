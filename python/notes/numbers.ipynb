{
 "cells": [
  {
   "cell_type": "markdown",
   "metadata": {},
   "source": [
    "# [Numeric Types](https://docs.python.org/3/library/stdtypes.html#typesnumeric)\n",
    "\n",
    "There are 3 types of **built-in** numbers in Python:\n",
    "- [`int`](https://docs.python.org/3/library/functions.html#int): Whole numbers.\n",
    "- [`float`](https://docs.python.org/3/library/functions.html#float): Numbers containing a decimal point.\n",
    "- [`complex`](https://docs.python.org/3/library/functions.html#complex): Numbers that have a real and imaginary part.\n",
    "\n",
    "[Fractions](https://docs.python.org/3/library/fractions.html#module-fractions) (`fractions.Fraction`) and [Decimals](https://docs.python.org/3/library/decimal.html) (`decimal.Decimal`) are also available via import from the standard library."
   ]
  },
  {
   "cell_type": "markdown",
   "metadata": {},
   "source": [
    "## Integers"
   ]
  },
  {
   "cell_type": "code",
   "execution_count": 1,
   "metadata": {},
   "outputs": [
    {
     "name": "stdout",
     "output_type": "stream",
     "text": [
      "23\n",
      "<class 'int'>\n"
     ]
    }
   ],
   "source": [
    "# Hex numbers starts with 0x\n",
    "hex_number = 0x17\n",
    "\n",
    "print(hex_number)\n",
    "print(type(hex_number))"
   ]
  },
  {
   "cell_type": "code",
   "execution_count": 2,
   "metadata": {},
   "outputs": [
    {
     "name": "stdout",
     "output_type": "stream",
     "text": [
      "15\n",
      "<class 'int'>\n"
     ]
    }
   ],
   "source": [
    "# Octal numbers starts with 0o\n",
    "octal_number = 0o17\n",
    "\n",
    "print(octal_number)\n",
    "print(type(octal_number))"
   ]
  },
  {
   "cell_type": "code",
   "execution_count": 14,
   "metadata": {},
   "outputs": [
    {
     "name": "stdout",
     "output_type": "stream",
     "text": [
      "101\n",
      "<class 'int'>\n"
     ]
    }
   ],
   "source": [
    "# Binary numbers start with 0b and they are made up of 0s and 1s\n",
    "binary_number = 0b1100101\n",
    "\n",
    "print(binary_number)\n",
    "print(type(binary_number))"
   ]
  },
  {
   "cell_type": "markdown",
   "metadata": {},
   "source": [
    "Integer numbers can be converted into other via constructor:"
   ]
  },
  {
   "cell_type": "code",
   "execution_count": 5,
   "metadata": {},
   "outputs": [],
   "source": [
    "# Define a integer number\n",
    "int_number = 123\n",
    "\n",
    "# Convert integer to hex\n",
    "hex_number = hex(int_number)\n",
    "\n",
    "# Convert integer to hex\n",
    "oct_number = oct(int_number)\n",
    "\n",
    "# Convert integer to bin\n",
    "bin_number = bin(int_number)"
   ]
  },
  {
   "cell_type": "code",
   "execution_count": 11,
   "metadata": {},
   "outputs": [
    {
     "name": "stdout",
     "output_type": "stream",
     "text": [
      "Integer: 123\n",
      "Hex: 0x7b\n",
      "Oct: 0o173\n",
      "Bin: 0b1111011\n"
     ]
    }
   ],
   "source": [
    "print(\"Integer:\", int_number)\n",
    "print(\"Hex:\", hex_number)\n",
    "print(\"Oct:\", oct_number)\n",
    "print(\"Bin:\", bin_number)"
   ]
  },
  {
   "cell_type": "markdown",
   "metadata": {},
   "source": [
    "## Floats"
   ]
  },
  {
   "cell_type": "code",
   "execution_count": 15,
   "metadata": {},
   "outputs": [
    {
     "name": "stdout",
     "output_type": "stream",
     "text": [
      "3.45\n",
      "<class 'float'>\n"
     ]
    }
   ],
   "source": [
    "# Create a float number\n",
    "float_number = 3.45\n",
    "\n",
    "print(float_number)\n",
    "print(type(float_number))"
   ]
  },
  {
   "cell_type": "markdown",
   "metadata": {},
   "source": [
    "## Complex"
   ]
  },
  {
   "cell_type": "markdown",
   "metadata": {},
   "source": [
    "Appending `j` or `J` to a number creates an **imaginary number*** -- a complex number with a zero real part.  \n",
    "`ints` or `floats` can then be added to an imaginary number to create a complex number with both real and imaginary parts:"
   ]
  },
  {
   "cell_type": "code",
   "execution_count": 16,
   "metadata": {},
   "outputs": [
    {
     "name": "stdout",
     "output_type": "stream",
     "text": [
      "(3.5+4j)\n",
      "<class 'complex'>\n"
     ]
    }
   ],
   "source": [
    "# Comlex number with integer\n",
    "complex_number = 3j\n",
    "\n",
    "# Complex number with float and integer\n",
    "complex_number = 3.5 + 4j\n",
    "\n",
    "print(complex_number)\n",
    "print(type(complex_number))"
   ]
  },
  {
   "cell_type": "markdown",
   "metadata": {},
   "source": [
    "# [Arithmetic Operators](https://www.w3schools.com/python/gloss_python_arithmetic_operators.asp)\n",
    "Python converts narrower numbers to match their less narrow counterparts (`int` < `float` < `complex`) when used with the binary arithmetic operators (`+`, `-`, `*`, `/`, `//`, and `%`).  \n",
    "\n",
    "All numbers (except `complex`) support all [arithmetic operations](https://docs.python.org/3/library/stdtypes.html#numeric-types-int-float-complex), evaluated according to [operator precedence](https://docs.python.org/3/reference/expressions.html#operator-precedence).  \n",
    "\n",
    "Support for mathematical functions (beyond +, -, /) for complex numbers can be found in the [cmath](https://docs.python.org/3.9/library/cmath.html) module."
   ]
  },
  {
   "cell_type": "code",
   "execution_count": 18,
   "metadata": {},
   "outputs": [
    {
     "data": {
      "text/plain": [
       "7.0"
      ]
     },
     "execution_count": 18,
     "metadata": {},
     "output_type": "execute_result"
    }
   ],
   "source": [
    "# The int is widened to a float here, and a float is returned.\n",
    "3 + 4.0"
   ]
  },
  {
   "cell_type": "code",
   "execution_count": 19,
   "metadata": {},
   "outputs": [
    {
     "data": {
      "text/plain": [
       "(1.3846153846153848-0.9230769230769231j)"
      ]
     },
     "execution_count": 19,
     "metadata": {},
     "output_type": "execute_result"
    }
   ],
   "source": [
    "# The int is widened to a complex number, and a complex number is returned.\n",
    "6/(3+2j)"
   ]
  },
  {
   "cell_type": "code",
   "execution_count": 20,
   "metadata": {},
   "outputs": [
    {
     "data": {
      "text/plain": [
       "3.0"
      ]
     },
     "execution_count": 20,
     "metadata": {},
     "output_type": "execute_result"
    }
   ],
   "source": [
    "# Division always returns a float, even if integers are used.\n",
    "6/2"
   ]
  },
  {
   "cell_type": "code",
   "execution_count": 22,
   "metadata": {},
   "outputs": [
    {
     "data": {
      "text/plain": [
       "3"
      ]
     },
     "execution_count": 22,
     "metadata": {},
     "output_type": "execute_result"
    }
   ],
   "source": [
    "# If an int result is needed, you can use floor division to truncate the result.\n",
    "6//2"
   ]
  },
  {
   "cell_type": "code",
   "execution_count": 23,
   "metadata": {},
   "outputs": [
    {
     "data": {
      "text/plain": [
       "True"
      ]
     },
     "execution_count": 23,
     "metadata": {},
     "output_type": "execute_result"
    }
   ],
   "source": [
    "# When comparing, exact values are used.\n",
    "23 == 0x17"
   ]
  }
 ],
 "metadata": {
  "kernelspec": {
   "display_name": "Python 3.9.7 64-bit",
   "language": "python",
   "name": "python3"
  },
  "language_info": {
   "codemirror_mode": {
    "name": "ipython",
    "version": 3
   },
   "file_extension": ".py",
   "mimetype": "text/x-python",
   "name": "python",
   "nbconvert_exporter": "python",
   "pygments_lexer": "ipython3",
   "version": "3.9.7"
  },
  "orig_nbformat": 4,
  "vscode": {
   "interpreter": {
    "hash": "aee8b7b246df8f9039afb4144a1f6fd8d2ca17a180786b69acc140d282b71a49"
   }
  }
 },
 "nbformat": 4,
 "nbformat_minor": 2
}
