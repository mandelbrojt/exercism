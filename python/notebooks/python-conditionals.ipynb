{
 "cells": [
  {
   "attachments": {},
   "cell_type": "markdown",
   "metadata": {},
   "source": [
    "# Conditionals"
   ]
  },
  {
   "attachments": {},
   "cell_type": "markdown",
   "metadata": {},
   "source": [
    "## Theory"
   ]
  },
  {
   "attachments": {},
   "cell_type": "markdown",
   "metadata": {},
   "source": [
    "In Python, `if`, `elif` and `else` statements are used to [control the flow](https://docs.python.org/3/tutorial/controlflow.html#more-control-flow-tools) of execution and make decisions in a program.  \n",
    "\n",
    "**Python 3.10** introduces a variant case-switch statement called `pattern matching`.  \n",
    "\n",
    "[Boolean operations](https://docs.python.org/3/library/stdtypes.html#boolean-operations-and-or-not) and [comparisons](https://docs.python.org/3/library/stdtypes.html#comparisons) can be combined with conditionals for more complex testing."
   ]
  },
  {
   "attachments": {},
   "cell_type": "markdown",
   "metadata": {},
   "source": [
    "## Exercises"
   ]
  },
  {
   "attachments": {},
   "cell_type": "markdown",
   "metadata": {},
   "source": [
    "### Yacht"
   ]
  },
  {
   "attachments": {},
   "cell_type": "markdown",
   "metadata": {},
   "source": [
    "The dice game Yacht is from the same family as Poker Dice, Generala and particularly Yahtzee, of which it is a precursor. \n",
    "\n",
    "In the game, five dice are rolled and the result can be entered in any of twelve categories.\n",
    "\n",
    "The score of a throw of the dice depends on category chosen."
   ]
  },
  {
   "cell_type": "code",
   "execution_count": null,
   "metadata": {},
   "outputs": [],
   "source": [
    "def rolls_counter(rolls: list) -> dict:\n",
    "    \"\"\"Counts the occurrences of each number in a list of dice rolls\"\"\"\n",
    "    return {num: rolls.count(num) for num in rolls}\n",
    "\n",
    "def score(dice: list, category: str) -> int:\n",
    "    \"\"\"Scores a given roll in a given category\"\"\"\n",
    "    return category(dice)\n",
    "\n",
    "\n",
    "# Score categories\n",
    "YACHT = lambda x: 50 if len(set(x)) == 1 else 0\n",
    "ONES = lambda x: rolls_counter(x)[1] * 1 if 1 in rolls_counter(x) else 0\n",
    "TWOS = lambda x: rolls_counter(x)[2] * 2 if 2 in rolls_counter(x) else 0\n",
    "THREES = lambda x: rolls_counter(x)[3] * 3 if 3 in rolls_counter(x) else 0\n",
    "FOURS = lambda x: rolls_counter(x)[4] * 4 if 4 in rolls_counter(x) else 0\n",
    "FIVES = lambda x: rolls_counter(x)[5] * 5 if 5 in rolls_counter(x) else 0\n",
    "SIXES = lambda x: rolls_counter(x)[6] * 6 if 6 in rolls_counter(x) else 0\n",
    "FULL_HOUSE = lambda x: sum(x) if len(set(x)) == 2 and 2 in rolls_counter(x).values() else 0\n",
    "FOUR_OF_A_KIND = lambda x: sum(x) if 4 in rolls_counter(x).values() else 0\n",
    "LITTLE_STRAIGHT = lambda x: 30 if len(set(x)) == 5 else 0\n",
    "BIG_STRAIGHT = lambda x: 30 if len(set(x)) == 5 else 0\n",
    "CHOICE = lambda x: sum(x)"
   ]
  },
  {
   "attachments": {},
   "cell_type": "markdown",
   "metadata": {},
   "source": [
    "### Lackadaisical"
   ]
  },
  {
   "attachments": {},
   "cell_type": "markdown",
   "metadata": {},
   "source": [
    "#### Instructions"
   ]
  },
  {
   "attachments": {},
   "cell_type": "markdown",
   "metadata": {},
   "source": [
    "Bob is a [lackadaisical](https://www.collinsdictionary.com/dictionary/english/lackadaisical) teenager. He likes to think that he's very cool. And he definitely doesn't get excited about things. That wouldn't be cool.\n",
    "\n",
    "When people talk to him, his responses are pretty limited.\n",
    "\n",
    "Your task is to determine what Bob will reply to someone when they say something to him or ask him a question.\n",
    "\n",
    "Bob only ever answers one of five things:\n",
    "\n",
    "- **\"Sure.\"** This is his response if you ask him a question, such as \"How are you?\" The convention used for questions is that it ends with a question mark.\n",
    "- **\"Whoa, chill out!\"** This is his answer if you YELL AT HIM. The convention used for yelling is ALL CAPITAL LETTERS.\n",
    "- **\"Calm down, I know what I'm doing!\"** This is what he says if you yell a question at him.\n",
    "- **\"Fine. Be that way!\"** This is how he responds to silence. The convention used for silence is nothing, or various combinations of whitespace characters.\n",
    "- **\"Whatever.\"** This is what he answers to anything else."
   ]
  },
  {
   "cell_type": "code",
   "execution_count": 11,
   "metadata": {},
   "outputs": [],
   "source": [
    "def is_question(string:str) -> bool:\n",
    "    return string.strip()[-1] == \"?\"\n",
    "\n",
    "\n",
    "def is_yelling(string:str) -> bool:\n",
    "    return string.isupper() and any(char.isalpha() for char in string)\n",
    "\n",
    "\n",
    "def is_silence(string:str) -> bool:\n",
    "    return len(string.strip()) == 0\n",
    "\n",
    "\n",
    "def response(hey_bob: str) -> str:\n",
    "    \"\"\"Returns Bob's response\"\"\"\n",
    "    if is_silence(hey_bob):\n",
    "        return \"Fine. Be that way!\"\n",
    "    elif is_question(hey_bob):\n",
    "        if is_yelling(hey_bob):\n",
    "            return \"Calm down, I know what I'm doing!\"\n",
    "        else:\n",
    "            return \"Sure.\"\n",
    "    elif is_yelling(hey_bob):\n",
    "        return \"Whoa, chill out!\"\n",
    "    else:\n",
    "        return \"Whatever.\""
   ]
  },
  {
   "cell_type": "code",
   "execution_count": 20,
   "metadata": {},
   "outputs": [
    {
     "data": {
      "text/plain": [
       "'Fine. Be that way!'"
      ]
     },
     "execution_count": 20,
     "metadata": {},
     "output_type": "execute_result"
    }
   ],
   "source": [
    "response(\"\\n\\r \\t\")"
   ]
  },
  {
   "cell_type": "code",
   "execution_count": 21,
   "metadata": {},
   "outputs": [
    {
     "data": {
      "text/plain": [
       "\"Calm down, I know what I'm doing!\""
      ]
     },
     "execution_count": 21,
     "metadata": {},
     "output_type": "execute_result"
    }
   ],
   "source": [
    "response(\"WHAT'S GOING ON?\")"
   ]
  },
  {
   "cell_type": "code",
   "execution_count": 17,
   "metadata": {},
   "outputs": [
    {
     "data": {
      "text/plain": [
       "'Sure.'"
      ]
     },
     "execution_count": 17,
     "metadata": {},
     "output_type": "execute_result"
    }
   ],
   "source": [
    "response(\"Does this cryogenic chamber make me look fat?\")"
   ]
  },
  {
   "cell_type": "code",
   "execution_count": 18,
   "metadata": {},
   "outputs": [
    {
     "data": {
      "text/plain": [
       "'Whoa, chill out!'"
      ]
     },
     "execution_count": 18,
     "metadata": {},
     "output_type": "execute_result"
    }
   ],
   "source": [
    "response(\"1, 2, 3 GO!\")"
   ]
  },
  {
   "cell_type": "code",
   "execution_count": 16,
   "metadata": {},
   "outputs": [
    {
     "data": {
      "text/plain": [
       "'Whatever.'"
      ]
     },
     "execution_count": 16,
     "metadata": {},
     "output_type": "execute_result"
    }
   ],
   "source": [
    "response(\"Tom-ay-to, tom-aaaah-to.\")"
   ]
  },
  {
   "attachments": {},
   "cell_type": "markdown",
   "metadata": {},
   "source": [
    "### Raindrops"
   ]
  },
  {
   "attachments": {},
   "cell_type": "markdown",
   "metadata": {},
   "source": [
    "#### Instructions"
   ]
  },
  {
   "attachments": {},
   "cell_type": "markdown",
   "metadata": {},
   "source": [
    "Your task is to **convert a number into a string** that contains raindrop sounds corresponding to certain potential factors. A factor is a number that evenly divides into another number, leaving no remainder. The simplest way to test if one number is a factor of another is to use the [modulo operation](https://en.wikipedia.org/wiki/Modulo_operation).\n",
    "\n",
    "The rules of `raindrops` are that if a given number:\n",
    "\n",
    "- has 3 as a factor, add 'Pling' to the result.\n",
    "- has 5 as a factor, add 'Plang' to the result.\n",
    "- has 7 as a factor, add 'Plong' to the result.\n",
    "- does not have any of 3, 5, or 7 as a factor, the result should be the digits of the number."
   ]
  },
  {
   "attachments": {},
   "cell_type": "markdown",
   "metadata": {},
   "source": [
    "#### Examples"
   ]
  },
  {
   "attachments": {},
   "cell_type": "markdown",
   "metadata": {},
   "source": [
    "- 28 has 7 as a factor, but not 3 or 5, so the result would be \"Plong\".\n",
    "- 30 has both 3 and 5 as factors, but not 7, so the result would be \"PlingPlang\".\n",
    "- 34 is not factored by 3, 5, or 7, so the result would be \"34\"."
   ]
  },
  {
   "attachments": {},
   "cell_type": "markdown",
   "metadata": {},
   "source": [
    "#### First Proposal"
   ]
  },
  {
   "cell_type": "code",
   "execution_count": 28,
   "metadata": {},
   "outputs": [],
   "source": [
    "def convert(number:int) -> str:\n",
    "    factors_sounds = [(3, \"Pling\"), (5, \"Plang\"), (7, \"Plong\")]\n",
    "    result = \"\"\n",
    "\n",
    "    for i in range(len(factors_sounds)):\n",
    "        if number % factors_sounds[i][0] == 0:\n",
    "            result += factors_sounds[i][1]\n",
    "    \n",
    "    if len(result) == 0:\n",
    "        return str(number)\n",
    "    else:\n",
    "        return result"
   ]
  },
  {
   "cell_type": "code",
   "execution_count": 29,
   "metadata": {},
   "outputs": [
    {
     "data": {
      "text/plain": [
       "'Plang'"
      ]
     },
     "execution_count": 29,
     "metadata": {},
     "output_type": "execute_result"
    }
   ],
   "source": [
    "convert(5)"
   ]
  },
  {
   "cell_type": "code",
   "execution_count": 30,
   "metadata": {},
   "outputs": [
    {
     "data": {
      "text/plain": [
       "'PlingPlang'"
      ]
     },
     "execution_count": 30,
     "metadata": {},
     "output_type": "execute_result"
    }
   ],
   "source": [
    "convert(15)"
   ]
  },
  {
   "attachments": {},
   "cell_type": "markdown",
   "metadata": {},
   "source": [
    "#### Refactored Proposal"
   ]
  },
  {
   "cell_type": "code",
   "execution_count": null,
   "metadata": {},
   "outputs": [],
   "source": [
    "def convert(number:int) -> str:\n",
    "    factors_sounds = [(3, \"Pling\"), (5, \"Plang\"), (7, \"Plong\")]\n",
    "    result = \"\"\n",
    "\n",
    "    for factor, sound in factors_sounds:\n",
    "        if number % factor == 0:\n",
    "            result += sound\n",
    "    \n",
    "    if len(result) == 0:\n",
    "        return str(number)\n",
    "    else:\n",
    "        return result"
   ]
  },
  {
   "attachments": {},
   "cell_type": "markdown",
   "metadata": {},
   "source": [
    "### Pig Latin"
   ]
  },
  {
   "attachments": {},
   "cell_type": "markdown",
   "metadata": {},
   "source": [
    "#### Instructions"
   ]
  },
  {
   "attachments": {},
   "cell_type": "markdown",
   "metadata": {},
   "source": [
    "Implement a **program that translates from English to Pig Latin**.\n",
    "\n",
    "Pig Latin is a made-up children's language that's intended to be confusing. It obeys a few simple rules (below), but when it's spoken quickly it's really difficult for non-children (and non-native speakers) to understand.\n",
    "\n",
    "- **Rule 1**: If a word begins with a **vowel sound**, add an \"ay\" sound to the end of the word. Please note that \"xr\" and \"yt\" at the beginning of a word make vowel sounds (e.g. \"xray\" -> \"xrayay\", \"yttria\" -> \"yttriaay\").\n",
    "\n",
    "- **Rule 2**: If a word begins with a **consonant sound**, move it to the end of the word and then add an \"ay\" sound to the end of the word. Consonant sounds can be made up of multiple consonants, such as the \"ch\" in \"chair\" or \"st\" in \"stand\" (e.g. \"chair\" -> \"airchay\").\n",
    "\n",
    "- **Rule 3**: If a word starts with a consonant sound followed by \"qu\", move it to the end of the word, and then add an \"ay\" sound to the end of the word (e.g. \"square\" -> \"aresquay\").\n",
    "\n",
    "- **Rule 4**: If a word contains a \"y\" after a consonant cluster or as the second letter in a two letter word it makes a vowel sound (e.g. \"rhythm\" -> \"ythmrhay\", \"my\" -> \"ymay\").\n",
    "\n",
    "There are a few more rules for edge cases, and there are regional variants too. Check the tests for all the details.\n",
    "\n",
    "Read more about [Pig Latin on Wikipedia](https://en.wikipedia.org/wiki/Pig_latin)."
   ]
  },
  {
   "attachments": {},
   "cell_type": "markdown",
   "metadata": {},
   "source": [
    "#### Definitions"
   ]
  },
  {
   "attachments": {},
   "cell_type": "markdown",
   "metadata": {},
   "source": [
    "- **Consonant sound**: A sound where the **airflow is stopped**, either partially or completely, when the sound is uttered.\n",
    "\n",
    "- **Vowel sound**: A sound where the **airflow is unstopped** when the sound is produced."
   ]
  },
  {
   "cell_type": "code",
   "execution_count": 1,
   "metadata": {},
   "outputs": [],
   "source": [
    "def translate(text:str) -> str:\n",
    "    vowel_sounds = [\"a\", \"e\", \"i\", \"o\", \"u\", \"xr\", \"yt\"]\n",
    "    consonant_sounds = [\"ch\", \"qu\", \"squ\", \"thr\", \"th\", \"sch\"]\n",
    "    \n",
    "    if text[0] in vowel_sounds:\n",
    "        return text + \"ay\""
   ]
  },
  {
   "cell_type": "code",
   "execution_count": 2,
   "metadata": {},
   "outputs": [
    {
     "data": {
      "text/plain": [
       "'appleay'"
      ]
     },
     "execution_count": 2,
     "metadata": {},
     "output_type": "execute_result"
    }
   ],
   "source": [
    "translate(\"apple\")"
   ]
  }
 ],
 "metadata": {
  "kernelspec": {
   "display_name": "Python 3.9.7 64-bit",
   "language": "python",
   "name": "python3"
  },
  "language_info": {
   "codemirror_mode": {
    "name": "ipython",
    "version": 3
   },
   "file_extension": ".py",
   "mimetype": "text/x-python",
   "name": "python",
   "nbconvert_exporter": "python",
   "pygments_lexer": "ipython3",
   "version": "3.9.7"
  },
  "orig_nbformat": 4,
  "vscode": {
   "interpreter": {
    "hash": "aee8b7b246df8f9039afb4144a1f6fd8d2ca17a180786b69acc140d282b71a49"
   }
  }
 },
 "nbformat": 4,
 "nbformat_minor": 2
}
