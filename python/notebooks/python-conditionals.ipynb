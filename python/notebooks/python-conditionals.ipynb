{
 "cells": [
  {
   "attachments": {},
   "cell_type": "markdown",
   "metadata": {},
   "source": [
    "# Conditionals"
   ]
  },
  {
   "attachments": {},
   "cell_type": "markdown",
   "metadata": {},
   "source": [
    "## Theory"
   ]
  },
  {
   "attachments": {},
   "cell_type": "markdown",
   "metadata": {},
   "source": [
    "In Python, `if`, `elif` and `else` statements are used to [control the flow](https://docs.python.org/3/tutorial/controlflow.html#more-control-flow-tools) of execution and make decisions in a program.  \n",
    "\n",
    "**Python 3.10** introduces a variant case-switch statement called `pattern matching`.  \n",
    "\n",
    "[Boolean operations](https://docs.python.org/3/library/stdtypes.html#boolean-operations-and-or-not) and [comparisons](https://docs.python.org/3/library/stdtypes.html#comparisons) can be combined with conditionals for more complex testing."
   ]
  },
  {
   "attachments": {},
   "cell_type": "markdown",
   "metadata": {},
   "source": [
    "## Exercises"
   ]
  },
  {
   "attachments": {},
   "cell_type": "markdown",
   "metadata": {},
   "source": [
    "### Yacht"
   ]
  },
  {
   "attachments": {},
   "cell_type": "markdown",
   "metadata": {},
   "source": [
    "The dice game Yacht is from the same family as Poker Dice, Generala and particularly Yahtzee, of which it is a precursor. \n",
    "\n",
    "In the game, five dice are rolled and the result can be entered in any of twelve categories.\n",
    "\n",
    "The score of a throw of the dice depends on category chosen."
   ]
  },
  {
   "cell_type": "code",
   "execution_count": 31,
   "metadata": {},
   "outputs": [],
   "source": [
    "def rolls_counter(rolls: list) -> dict:\n",
    "    \"\"\"Counts the occurrences of each number in a list of dice rolls\"\"\"\n",
    "    return {num: rolls.count(num) for num in rolls}\n",
    "\n",
    "def score(dice: list, category: str) -> int:\n",
    "    \"\"\"Scores a given roll in a given category\"\"\"\n",
    "    return category(dice)\n",
    "\n",
    "\n",
    "# Score categories\n",
    "YACHT = lambda x: 50 if len(set(x)) == 1 else 0\n",
    "ONES = lambda x: rolls_counter(x)[1] * 1 if 1 in rolls_counter(x) else 0\n",
    "TWOS = lambda x: rolls_counter(x)[2] * 2 if 2 in rolls_counter(x) else 0\n",
    "THREES = lambda x: rolls_counter(x)[3] * 3 if 3 in rolls_counter(x) else 0\n",
    "FOURS = lambda x: rolls_counter(x)[4] * 4 if 4 in rolls_counter(x) else 0\n",
    "FIVES = lambda x: rolls_counter(x)[5] * 5 if 5 in rolls_counter(x) else 0\n",
    "SIXES = lambda x: rolls_counter(x)[6] * 6 if 6 in rolls_counter(x) else 0\n",
    "FULL_HOUSE = lambda x: sum(x) if len(set(x)) == 2 and 2 in rolls_counter(x).values() else 0\n",
    "FOUR_OF_A_KIND = lambda x: sum(x) if 4 in rolls_counter(x).values() else 0\n",
    "LITTLE_STRAIGHT = lambda x: 30 if len(set(x)) == 5 else 0\n",
    "BIG_STRAIGHT = lambda x: 30 if len(set(x)) == 5 else 0\n",
    "CHOICE = lambda x: sum(x)"
   ]
  },
  {
   "attachments": {},
   "cell_type": "markdown",
   "metadata": {},
   "source": [
    "### Lackadaisical"
   ]
  },
  {
   "attachments": {},
   "cell_type": "markdown",
   "metadata": {},
   "source": [
    "#### Instructions"
   ]
  },
  {
   "attachments": {},
   "cell_type": "markdown",
   "metadata": {},
   "source": [
    "Bob is a [lackadaisical](https://www.collinsdictionary.com/dictionary/english/lackadaisical) teenager. He likes to think that he's very cool. And he definitely doesn't get excited about things. That wouldn't be cool.\n",
    "\n",
    "When people talk to him, his responses are pretty limited.\n",
    "\n",
    "Your task is to determine what Bob will reply to someone when they say something to him or ask him a question.\n",
    "\n",
    "Bob only ever answers one of five things:\n",
    "\n",
    "- **\"Sure.\"** This is his response if you ask him a question, such as \"How are you?\" The convention used for questions is that it ends with a question mark.\n",
    "- **\"Whoa, chill out!\"** This is his answer if you YELL AT HIM. The convention used for yelling is ALL CAPITAL LETTERS.\n",
    "- **\"Calm down, I know what I'm doing!\"** This is what he says if you yell a question at him.\n",
    "- **\"Fine. Be that way!\"** This is how he responds to silence. The convention used for silence is nothing, or various combinations of whitespace characters.\n",
    "- **\"Whatever.\"** This is what he answers to anything else."
   ]
  },
  {
   "cell_type": "code",
   "execution_count": 32,
   "metadata": {},
   "outputs": [],
   "source": [
    "def is_question(string:str) -> bool:\n",
    "    return string.strip()[-1] == \"?\"\n",
    "\n",
    "\n",
    "def is_yelling(string:str) -> bool:\n",
    "    return string.isupper() and any(char.isalpha() for char in string)\n",
    "\n",
    "\n",
    "def is_silence(string:str) -> bool:\n",
    "    return len(string.strip()) == 0\n",
    "\n",
    "\n",
    "def response(hey_bob: str) -> str:\n",
    "    \"\"\"Returns Bob's response\"\"\"\n",
    "    if is_silence(hey_bob):\n",
    "        return \"Fine. Be that way!\"\n",
    "    elif is_question(hey_bob):\n",
    "        if is_yelling(hey_bob):\n",
    "            return \"Calm down, I know what I'm doing!\"\n",
    "        else:\n",
    "            return \"Sure.\"\n",
    "    elif is_yelling(hey_bob):\n",
    "        return \"Whoa, chill out!\"\n",
    "    else:\n",
    "        return \"Whatever.\""
   ]
  },
  {
   "cell_type": "code",
   "execution_count": 33,
   "metadata": {},
   "outputs": [
    {
     "data": {
      "text/plain": [
       "'Fine. Be that way!'"
      ]
     },
     "execution_count": 33,
     "metadata": {},
     "output_type": "execute_result"
    }
   ],
   "source": [
    "response(\"\\n\\r \\t\")"
   ]
  },
  {
   "cell_type": "code",
   "execution_count": 34,
   "metadata": {},
   "outputs": [
    {
     "data": {
      "text/plain": [
       "\"Calm down, I know what I'm doing!\""
      ]
     },
     "execution_count": 34,
     "metadata": {},
     "output_type": "execute_result"
    }
   ],
   "source": [
    "response(\"WHAT'S GOING ON?\")"
   ]
  },
  {
   "cell_type": "code",
   "execution_count": 35,
   "metadata": {},
   "outputs": [
    {
     "data": {
      "text/plain": [
       "'Sure.'"
      ]
     },
     "execution_count": 35,
     "metadata": {},
     "output_type": "execute_result"
    }
   ],
   "source": [
    "response(\"Does this cryogenic chamber make me look fat?\")"
   ]
  },
  {
   "cell_type": "code",
   "execution_count": 36,
   "metadata": {},
   "outputs": [
    {
     "data": {
      "text/plain": [
       "'Whoa, chill out!'"
      ]
     },
     "execution_count": 36,
     "metadata": {},
     "output_type": "execute_result"
    }
   ],
   "source": [
    "response(\"1, 2, 3 GO!\")"
   ]
  },
  {
   "cell_type": "code",
   "execution_count": 37,
   "metadata": {},
   "outputs": [
    {
     "data": {
      "text/plain": [
       "'Whatever.'"
      ]
     },
     "execution_count": 37,
     "metadata": {},
     "output_type": "execute_result"
    }
   ],
   "source": [
    "response(\"Tom-ay-to, tom-aaaah-to.\")"
   ]
  },
  {
   "attachments": {},
   "cell_type": "markdown",
   "metadata": {},
   "source": [
    "### Raindrops"
   ]
  },
  {
   "attachments": {},
   "cell_type": "markdown",
   "metadata": {},
   "source": [
    "#### Instructions"
   ]
  },
  {
   "attachments": {},
   "cell_type": "markdown",
   "metadata": {},
   "source": [
    "Your task is to **convert a number into a string** that contains raindrop sounds corresponding to certain potential factors. A factor is a number that evenly divides into another number, leaving no remainder. The simplest way to test if one number is a factor of another is to use the [modulo operation](https://en.wikipedia.org/wiki/Modulo_operation).\n",
    "\n",
    "The rules of `raindrops` are that if a given number:\n",
    "\n",
    "- has 3 as a factor, add 'Pling' to the result.\n",
    "- has 5 as a factor, add 'Plang' to the result.\n",
    "- has 7 as a factor, add 'Plong' to the result.\n",
    "- does not have any of 3, 5, or 7 as a factor, the result should be the digits of the number."
   ]
  },
  {
   "attachments": {},
   "cell_type": "markdown",
   "metadata": {},
   "source": [
    "#### Examples"
   ]
  },
  {
   "attachments": {},
   "cell_type": "markdown",
   "metadata": {},
   "source": [
    "- 28 has 7 as a factor, but not 3 or 5, so the result would be \"Plong\".\n",
    "- 30 has both 3 and 5 as factors, but not 7, so the result would be \"PlingPlang\".\n",
    "- 34 is not factored by 3, 5, or 7, so the result would be \"34\"."
   ]
  },
  {
   "attachments": {},
   "cell_type": "markdown",
   "metadata": {},
   "source": [
    "#### First Proposal"
   ]
  },
  {
   "cell_type": "code",
   "execution_count": 38,
   "metadata": {},
   "outputs": [],
   "source": [
    "def convert(number:int) -> str:\n",
    "    factors_sounds = [(3, \"Pling\"), (5, \"Plang\"), (7, \"Plong\")]\n",
    "    result = \"\"\n",
    "\n",
    "    for i in range(len(factors_sounds)):\n",
    "        if number % factors_sounds[i][0] == 0:\n",
    "            result += factors_sounds[i][1]\n",
    "    \n",
    "    if len(result) == 0:\n",
    "        return str(number)\n",
    "    else:\n",
    "        return result"
   ]
  },
  {
   "cell_type": "code",
   "execution_count": 39,
   "metadata": {},
   "outputs": [
    {
     "data": {
      "text/plain": [
       "'Plang'"
      ]
     },
     "execution_count": 39,
     "metadata": {},
     "output_type": "execute_result"
    }
   ],
   "source": [
    "convert(5)"
   ]
  },
  {
   "cell_type": "code",
   "execution_count": 40,
   "metadata": {},
   "outputs": [
    {
     "data": {
      "text/plain": [
       "'PlingPlang'"
      ]
     },
     "execution_count": 40,
     "metadata": {},
     "output_type": "execute_result"
    }
   ],
   "source": [
    "convert(15)"
   ]
  },
  {
   "attachments": {},
   "cell_type": "markdown",
   "metadata": {},
   "source": [
    "#### Refactored Proposal"
   ]
  },
  {
   "cell_type": "code",
   "execution_count": 41,
   "metadata": {},
   "outputs": [],
   "source": [
    "def convert(number:int) -> str:\n",
    "    factors_sounds = [(3, \"Pling\"), (5, \"Plang\"), (7, \"Plong\")]\n",
    "    result = \"\"\n",
    "\n",
    "    for factor, sound in factors_sounds:\n",
    "        if number % factor == 0:\n",
    "            result += sound\n",
    "    \n",
    "    if len(result) == 0:\n",
    "        return str(number)\n",
    "    else:\n",
    "        return result"
   ]
  },
  {
   "attachments": {},
   "cell_type": "markdown",
   "metadata": {},
   "source": [
    "### Pig Latin"
   ]
  },
  {
   "attachments": {},
   "cell_type": "markdown",
   "metadata": {},
   "source": [
    "#### Instructions"
   ]
  },
  {
   "attachments": {},
   "cell_type": "markdown",
   "metadata": {},
   "source": [
    "Implement a **program that translates from English to Pig Latin**.\n",
    "\n",
    "Pig Latin is a made-up children's language that's intended to be confusing. It obeys a few simple rules (below), but when it's spoken quickly it's really difficult for non-children (and non-native speakers) to understand.\n",
    "\n",
    "- **Rule 1**: If a word begins with a **vowel sound**, add an \"ay\" sound to the end of the word. Please note that \"xr\" and \"yt\" at the beginning of a word make vowel sounds (e.g. \"xray\" -> \"xrayay\", \"yttria\" -> \"yttriaay\").\n",
    "\n",
    "- **Rule 2**: If a word begins with a **consonant sound**, move it to the end of the word and then add an \"ay\" sound to the end of the word. Consonant sounds can be made up of multiple consonants, such as the \"ch\" in \"chair\" or \"st\" in \"stand\" (e.g. \"chair\" -> \"airchay\").\n",
    "\n",
    "- **Rule 3**: If a word starts with a consonant sound followed by \"qu\", move it to the end of the word, and then add an \"ay\" sound to the end of the word (e.g. \"square\" -> \"aresquay\").\n",
    "\n",
    "- **Rule 4**: If a word contains a \"y\" after a consonant cluster or as the second letter in a two letter word it makes a vowel sound (e.g. \"rhythm\" -> \"ythmrhay\", \"my\" -> \"ymay\").\n",
    "\n",
    "There are a few more rules for edge cases, and there are regional variants too. Check the tests for all the details.\n",
    "\n",
    "Read more about [Pig Latin on Wikipedia](https://en.wikipedia.org/wiki/Pig_latin)."
   ]
  },
  {
   "attachments": {},
   "cell_type": "markdown",
   "metadata": {},
   "source": [
    "#### Definitions"
   ]
  },
  {
   "attachments": {},
   "cell_type": "markdown",
   "metadata": {},
   "source": [
    "- **Consonant sound**: A sound where the **airflow is stopped**, either partially or completely, when the sound is uttered.\n",
    "\n",
    "- **Vowel sound**: A sound where the **airflow is unstopped** when the sound is produced."
   ]
  },
  {
   "cell_type": "code",
   "execution_count": 42,
   "metadata": {},
   "outputs": [],
   "source": [
    "def translate(text:str) -> str:\n",
    "    # Initialize an empty list to store the translated words\n",
    "    result = []\n",
    "    \n",
    "    # Loop through each word in the input text\n",
    "    for word in text.split():\n",
    "        # Check if the word starts with a vowel sound\n",
    "        if (word[:2] in [\"xr\",\"yt\"]) or (word[0] in [\"a\",\"e\",\"i\",\"o\",\"u\"]):\n",
    "            # If it does, add \"ay\" to the end of the word\n",
    "            result.append(word + \"ay\")\n",
    "        # Check if the word starts with a three-letter consonant sound\n",
    "        elif word[:3] in [\"thr\",\"sch\"]:\n",
    "            # If it does, move the consonant sound to the end and add \"ay\"\n",
    "            result.append(word[3:] + word[:3] + \"ay\")\n",
    "        # Check if the word starts with a two-letter consonant sound\n",
    "        elif word[:2] in [\"ch\",\"st\",\"th\",\"qu\",\"rh\"]:\n",
    "            # If it does, move the consonant sound to the end and add \"ay\"\n",
    "            result.append(word[2:] + word[:2] + \"ay\")\n",
    "        # Check if the word starts with a single-letter consonant sound\n",
    "        elif not word[0] in [\"a\",\"e\",\"i\",\"o\",\"u\"]:\n",
    "            # If the next two letters are \"qu\", treat it as a consonant sound\n",
    "            if word[1:3] == \"qu\":\n",
    "                # Move the consonant sound to the end and add \"ay\"\n",
    "                result.append(word[3:] + word[:3] + \"ay\")\n",
    "            else:\n",
    "                # Otherwise, move the first letter to the end and add \"ay\"\n",
    "                result.append(word[1:] + word[0] + \"ay\")\n",
    "        # If the word is a two-letter word\n",
    "        elif len(word) == 2:\n",
    "            # Reverse the letters and add \"ay\"\n",
    "            result.append(word[-1] + word[0] + \"ay\")\n",
    "    \n",
    "    # Join the translated words with spaces and return the result\n",
    "    return ' '.join(result)"
   ]
  },
  {
   "cell_type": "code",
   "execution_count": 43,
   "metadata": {},
   "outputs": [
    {
     "data": {
      "text/plain": [
       "'appleay'"
      ]
     },
     "execution_count": 43,
     "metadata": {},
     "output_type": "execute_result"
    }
   ],
   "source": [
    "translate(\"apple\")"
   ]
  },
  {
   "cell_type": "code",
   "execution_count": 44,
   "metadata": {},
   "outputs": [
    {
     "data": {
      "text/plain": [
       "'ythmrhay'"
      ]
     },
     "execution_count": 44,
     "metadata": {},
     "output_type": "execute_result"
    }
   ],
   "source": [
    "translate(\"rhythm\")"
   ]
  },
  {
   "cell_type": "code",
   "execution_count": 45,
   "metadata": {},
   "outputs": [
    {
     "data": {
      "text/plain": [
       "'ickquay astfay unray'"
      ]
     },
     "execution_count": 45,
     "metadata": {},
     "output_type": "execute_result"
    }
   ],
   "source": [
    "translate(\"quick fast run\")"
   ]
  },
  {
   "cell_type": "markdown",
   "metadata": {},
   "source": [
    "### Black Jack"
   ]
  },
  {
   "cell_type": "markdown",
   "metadata": {},
   "source": [
    "In this exercise you are going to implement some rules of Blackjack, such as the way the game is played and scored.\n",
    "\n",
    "Note : In this exercise, A means ace, J means jack, Q means queen, and K means king. Jokers are discarded. A standard French-suited 52-card deck is assumed, but in most versions, several decks are shuffled together for play.\n",
    "\n",
    "- [How to play blackjack](https://bicyclecards.com/how-to-play/blackjack/)\n",
    "- [\"Standard\" playing cards](https://en.wikipedia.org/wiki/Standard_52-card_deck)"
   ]
  },
  {
   "cell_type": "markdown",
   "metadata": {},
   "source": [
    "#### Task 1"
   ]
  },
  {
   "cell_type": "markdown",
   "metadata": {},
   "source": [
    "In Blackjack, it is up to each individual player if an ace is worth 1 or 11 points (more on that later). Face cards (J, Q, K) are scored at 10 points and any other card is worth its \"pip\" (numerical) value.\n",
    "\n",
    "Define the value_of_card(<card>) function with parameter card. The function should return the numerical value of the passed-in card string. Since an ace can take on multiple values (1 or 11), this function should fix the value of an ace card at 1 for the time being. Later on, you will implement a function to determine the value of an ace card, given an existing hand."
   ]
  },
  {
   "cell_type": "code",
   "execution_count": 46,
   "metadata": {},
   "outputs": [],
   "source": [
    "def value_of_card(card:str):\n",
    "    \"\"\"Determine the scoring value of a card.\n",
    "\n",
    "    :param card: str - given card.\n",
    "    :return: int - value of a given card.  See below for values.\n",
    "\n",
    "    1.  'J', 'Q', or 'K' (otherwise known as \"face cards\") = 10\n",
    "    2.  'A' (ace card) = 1\n",
    "    3.  '2' - '10' = numerical value.\n",
    "    \"\"\"\n",
    "\n",
    "    if card in [\"J\",\"Q\",\"K\"]:\n",
    "        return 10\n",
    "    if card == \"A\":\n",
    "        return 1\n",
    "    return int(card)\n"
   ]
  },
  {
   "cell_type": "markdown",
   "metadata": {},
   "source": [
    "#### Task 2"
   ]
  },
  {
   "cell_type": "markdown",
   "metadata": {},
   "source": [
    "Define the `higher_card(<card_one>, <card_two>)` function having parameters `card_one` and `card_two`. \n",
    "\n",
    "For scoring purposes, the value of `J`, `Q` or `K` is 10. \n",
    "\n",
    "The function should return which card has the higher value for scoring.\n",
    "\n",
    "If both cards have an equal value, return both. \n",
    "\n",
    "> **Hint**: Returning both cards can be done by using a comma in the return statement."
   ]
  },
  {
   "cell_type": "code",
   "execution_count": 47,
   "metadata": {},
   "outputs": [],
   "source": [
    "def higher_card(card_one:str, card_two:str):\n",
    "    \"\"\"Determine which card has a higher value in the hand.\n",
    "\n",
    "    :param card_one, card_two: str - cards dealt in hand.  See below for values.\n",
    "    :return: str or tuple - resulting Tuple contains both cards if they are of equal value.\n",
    "\n",
    "    1.  'J', 'Q', or 'K' (otherwise known as \"face cards\") = 10\n",
    "    2.  'A' (ace card) = 1\n",
    "    3.  '2' - '10' = numerical value.\n",
    "    \"\"\"\n",
    "\n",
    "    if value_of_card(card_one) == value_of_card(card_two):\n",
    "        return (card_one, card_two)\n",
    "    if value_of_card(card_one) > value_of_card(card_two):\n",
    "        return card_one\n",
    "    return card_two"
   ]
  },
  {
   "cell_type": "markdown",
   "metadata": {},
   "source": [
    "### Task 3"
   ]
  },
  {
   "cell_type": "markdown",
   "metadata": {},
   "source": [
    "As mentioned before, an ace can be worth either 1 or 11 points. Players try to get as close as possible to a score of 21, without going over 21 (going \"bust\").\n",
    "\n",
    "Define the value_of_ace(<card_one>, <card_two>) function with parameters card_one and card_two, which are a pair of cards already in the hand before getting an ace card. Your function will have to decide if the upcoming ace will get a value of 1 or a value of 11, and return that value. Remember: the value of the hand with the ace needs to be as high as possible without going over 21.\n",
    "\n",
    "Hint: if we already have an ace in hand then its value would be 11."
   ]
  },
  {
   "cell_type": "code",
   "execution_count": 48,
   "metadata": {},
   "outputs": [],
   "source": [
    "def value_of_ace(card_one:str, card_two:str):\n",
    "    \"\"\"Calculate the most advantageous value for the ace card.\n",
    "\n",
    "    :param card_one, card_two: str - card dealt. See below for values.\n",
    "    :return: int - either 1 or 11 value of the upcoming ace card.\n",
    "\n",
    "    1.  'J', 'Q', or 'K' (otherwise known as \"face cards\") = 10\n",
    "    2.  'A' (ace card) = 11 (if already in hand)\n",
    "    3.  '2' - '10' = numerical value.\n",
    "    \"\"\"\n",
    "\n",
    "    hand_sum = value_of_card(card_one) + value_of_card(card_two)\n",
    "    \n",
    "    if \"A\" in (card_one, card_two):\n",
    "        return 1\n",
    "    if hand_sum <= 10:\n",
    "        return 11\n",
    "    return 1"
   ]
  },
  {
   "cell_type": "markdown",
   "metadata": {},
   "source": [
    "### Task 4"
   ]
  },
  {
   "cell_type": "markdown",
   "metadata": {},
   "source": [
    "If the first two cards a player is dealt are an ace (A) and a ten-card (10, K, Q or J), giving a score of 21 in two cards, the hand is considered a natural or blackjack.\n",
    "\n",
    "Define the `is_blackjack(<card_one>, <card_two>)` function with parameters `card_one` and `card_two`, which are a pair of cards.\n",
    "\n",
    "Determine if the two-card hand is a blackjack, and return the boolean `True` if it is, `False` otherwise.\n",
    "\n",
    "> **Note** : The score calculation can be done in many ways. But if possible, we'd like you to check if there is an ace and a ten-card in the hand (or at a certain position), as opposed to summing the hand values."
   ]
  },
  {
   "cell_type": "code",
   "execution_count": 49,
   "metadata": {},
   "outputs": [],
   "source": [
    "def is_blackjack(card_one:str, card_two:str) -> bool:\n",
    "    \"\"\"Determine if the hand is a 'natural' or 'blackjack'.\n",
    "\n",
    "    :param card_one, card_two: str - card dealt. See below for values.\n",
    "    :return: bool - is the hand is a blackjack (two cards worth 21).\n",
    "\n",
    "    1.  'J', 'Q', or 'K' (otherwise known as \"face cards\") = 10\n",
    "    2.  'A' (ace card) = 11 (if already in hand)\n",
    "    3.  '2' - '10' = numerical value.\n",
    "    \"\"\"\n",
    "    \n",
    "    tenth_cards = [\"10\",\"J\",\"Q\",\"K\"]\n",
    "\n",
    "    return (card_one == \"A\" and card_two in tenth_cards) or (card_two == \"A\" and card_one in tenth_cards)"
   ]
  },
  {
   "cell_type": "code",
   "execution_count": 50,
   "metadata": {},
   "outputs": [
    {
     "data": {
      "text/plain": [
       "False"
      ]
     },
     "execution_count": 50,
     "metadata": {},
     "output_type": "execute_result"
    }
   ],
   "source": [
    "is_blackjack(\"A\",\"5\")"
   ]
  },
  {
   "cell_type": "code",
   "execution_count": 51,
   "metadata": {},
   "outputs": [
    {
     "data": {
      "text/plain": [
       "False"
      ]
     },
     "execution_count": 51,
     "metadata": {},
     "output_type": "execute_result"
    }
   ],
   "source": [
    "is_blackjack(\"J\",\"K\")"
   ]
  },
  {
   "cell_type": "code",
   "execution_count": 52,
   "metadata": {},
   "outputs": [
    {
     "data": {
      "text/plain": [
       "True"
      ]
     },
     "execution_count": 52,
     "metadata": {},
     "output_type": "execute_result"
    }
   ],
   "source": [
    "is_blackjack(\"10\",\"A\")"
   ]
  },
  {
   "cell_type": "markdown",
   "metadata": {},
   "source": [
    "### Task 5"
   ]
  },
  {
   "cell_type": "markdown",
   "metadata": {},
   "source": [
    "If the players first two cards are of the same value, such as two sixes, or a `Q` and `K` a player may choose to treat them as two separate hands. This is known as \"splitting pairs\".\n",
    "\n",
    "Define the `can_split_pairs(<card_one>, <card_two>)` function with parameters `card_one` and `card_two`, which are a pair of cards. \n",
    "\n",
    "Determine if this two-card hand can be split into two pairs. If the hand can be split, return the boolean `True` otherwise, return `False`."
   ]
  },
  {
   "cell_type": "code",
   "execution_count": 53,
   "metadata": {},
   "outputs": [],
   "source": [
    "def can_split_pairs(card_one:str, card_two:str) -> bool:\n",
    "    \"\"\"Determine if a player can split their hand into two hands.\n",
    "\n",
    "    :param card_one, card_two: str - cards dealt.\n",
    "    :return: bool - can the hand be split into two pairs? (i.e. cards are of the same value).\n",
    "    \"\"\"\n",
    "\n",
    "    return value_of_card(card_one) == value_of_card(card_two)"
   ]
  },
  {
   "cell_type": "markdown",
   "metadata": {},
   "source": [
    "### Task 6"
   ]
  },
  {
   "cell_type": "markdown",
   "metadata": {},
   "source": [
    "When the original two cards dealt total 9, 10, or 11 points, a player can place an additional bet equal to their original bet. This is known as \"doubling down\".\n",
    "\n",
    "Define the `can_double_down(<card_one>, <card_two>)` function with parameters `card_one` and `card_two`, which are a pair of cards. \n",
    "\n",
    "Determine if the two-card hand can be \"doubled down\", and return the boolean `True` if it can, `False` otherwise."
   ]
  },
  {
   "cell_type": "code",
   "execution_count": 54,
   "metadata": {},
   "outputs": [],
   "source": [
    "def can_double_down(card_one:str, card_two:str) -> bool:\n",
    "    \"\"\"Determine if a blackjack player can place a double down bet.\n",
    "\n",
    "    :param card_one, card_two: str - first and second cards in hand.\n",
    "    :return: bool - can the hand can be doubled down? (i.e. totals 9, 10 or 11 points).\n",
    "    \"\"\"\n",
    "\n",
    "    hand_value = value_of_card(card_one) + value_of_card(card_two)\n",
    "    return hand_value in [9,10,11]"
   ]
  }
 ],
 "metadata": {
  "kernelspec": {
   "display_name": "Python 3.9.7 64-bit",
   "language": "python",
   "name": "python3"
  },
  "language_info": {
   "codemirror_mode": {
    "name": "ipython",
    "version": 3
   },
   "file_extension": ".py",
   "mimetype": "text/x-python",
   "name": "python",
   "nbconvert_exporter": "python",
   "pygments_lexer": "ipython3",
   "version": "3.9.7"
  },
  "orig_nbformat": 4,
  "vscode": {
   "interpreter": {
    "hash": "aee8b7b246df8f9039afb4144a1f6fd8d2ca17a180786b69acc140d282b71a49"
   }
  }
 },
 "nbformat": 4,
 "nbformat_minor": 2
}
