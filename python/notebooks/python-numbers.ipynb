{
 "cells": [
  {
   "attachments": {},
   "cell_type": "markdown",
   "metadata": {},
   "source": [
    "# Python Numbers"
   ]
  },
  {
   "attachments": {},
   "cell_type": "markdown",
   "metadata": {},
   "source": [
    "## Theory"
   ]
  },
  {
   "attachments": {},
   "cell_type": "markdown",
   "metadata": {},
   "source": [
    "### Numeric Types"
   ]
  },
  {
   "attachments": {},
   "cell_type": "markdown",
   "metadata": {},
   "source": [
    "There are [3 types of built-in numbers in Python](https://docs.python.org/3/library/stdtypes.html#typesnumeric):\n",
    "- [`int`](https://docs.python.org/3/library/functions.html#int): Whole numbers.\n",
    "- [`float`](https://docs.python.org/3/library/functions.html#float): Numbers containing a decimal point.\n",
    "- [`complex`](https://docs.python.org/3/library/functions.html#complex): Numbers that have a real and imaginary part.\n",
    "\n",
    "[Fractions](https://docs.python.org/3/library/fractions.html#module-fractions) (`fractions.Fraction`) and [Decimals](https://docs.python.org/3/library/decimal.html) (`decimal.Decimal`) are also available via import from the standard library."
   ]
  },
  {
   "attachments": {},
   "cell_type": "markdown",
   "metadata": {},
   "source": [
    "#### Integers"
   ]
  },
  {
   "cell_type": "code",
   "execution_count": 1,
   "metadata": {},
   "outputs": [
    {
     "name": "stdout",
     "output_type": "stream",
     "text": [
      "23\n",
      "<class 'int'>\n"
     ]
    }
   ],
   "source": [
    "# Hex numbers starts with 0x\n",
    "hex_number = 0x17\n",
    "\n",
    "print(hex_number)\n",
    "print(type(hex_number))"
   ]
  },
  {
   "cell_type": "code",
   "execution_count": 2,
   "metadata": {},
   "outputs": [
    {
     "name": "stdout",
     "output_type": "stream",
     "text": [
      "15\n",
      "<class 'int'>\n"
     ]
    }
   ],
   "source": [
    "# Octal numbers starts with 0o\n",
    "octal_number = 0o17\n",
    "\n",
    "print(octal_number)\n",
    "print(type(octal_number))"
   ]
  },
  {
   "cell_type": "code",
   "execution_count": 14,
   "metadata": {},
   "outputs": [
    {
     "name": "stdout",
     "output_type": "stream",
     "text": [
      "101\n",
      "<class 'int'>\n"
     ]
    }
   ],
   "source": [
    "# Binary numbers start with 0b and they are made up of 0s and 1s\n",
    "binary_number = 0b1100101\n",
    "\n",
    "print(binary_number)\n",
    "print(type(binary_number))"
   ]
  },
  {
   "attachments": {},
   "cell_type": "markdown",
   "metadata": {},
   "source": [
    "Integer numbers can be converted into other via constructor:"
   ]
  },
  {
   "cell_type": "code",
   "execution_count": 5,
   "metadata": {},
   "outputs": [],
   "source": [
    "# Define a integer number\n",
    "int_number = 123\n",
    "\n",
    "# Convert integer to hex\n",
    "hex_number = hex(int_number)\n",
    "\n",
    "# Convert integer to hex\n",
    "oct_number = oct(int_number)\n",
    "\n",
    "# Convert integer to bin\n",
    "bin_number = bin(int_number)"
   ]
  },
  {
   "cell_type": "code",
   "execution_count": 11,
   "metadata": {},
   "outputs": [
    {
     "name": "stdout",
     "output_type": "stream",
     "text": [
      "Integer: 123\n",
      "Hex: 0x7b\n",
      "Oct: 0o173\n",
      "Bin: 0b1111011\n"
     ]
    }
   ],
   "source": [
    "print(\"Integer:\", int_number)\n",
    "print(\"Hex:\", hex_number)\n",
    "print(\"Oct:\", oct_number)\n",
    "print(\"Bin:\", bin_number)"
   ]
  },
  {
   "attachments": {},
   "cell_type": "markdown",
   "metadata": {},
   "source": [
    "#### Floats"
   ]
  },
  {
   "cell_type": "code",
   "execution_count": 15,
   "metadata": {},
   "outputs": [
    {
     "name": "stdout",
     "output_type": "stream",
     "text": [
      "3.45\n",
      "<class 'float'>\n"
     ]
    }
   ],
   "source": [
    "# Create a float number\n",
    "float_number = 3.45\n",
    "\n",
    "print(float_number)\n",
    "print(type(float_number))"
   ]
  },
  {
   "attachments": {},
   "cell_type": "markdown",
   "metadata": {},
   "source": [
    "#### Complex"
   ]
  },
  {
   "attachments": {},
   "cell_type": "markdown",
   "metadata": {},
   "source": [
    "Appending `j` or `J` to a number creates an **imaginary number*** -- a complex number with a zero real part.  \n",
    "`ints` or `floats` can then be added to an imaginary number to create a complex number with both real and imaginary parts:"
   ]
  },
  {
   "cell_type": "code",
   "execution_count": 16,
   "metadata": {},
   "outputs": [
    {
     "name": "stdout",
     "output_type": "stream",
     "text": [
      "(3.5+4j)\n",
      "<class 'complex'>\n"
     ]
    }
   ],
   "source": [
    "# Comlex number with integer\n",
    "complex_number = 3j\n",
    "\n",
    "# Complex number with float and integer\n",
    "complex_number = 3.5 + 4j\n",
    "\n",
    "print(complex_number)\n",
    "print(type(complex_number))"
   ]
  },
  {
   "attachments": {},
   "cell_type": "markdown",
   "metadata": {},
   "source": [
    "### [Arithmetic Operators](https://www.w3schools.com/python/gloss_python_arithmetic_operators.asp)"
   ]
  },
  {
   "attachments": {},
   "cell_type": "markdown",
   "metadata": {},
   "source": [
    "Python converts narrower numbers to match their less narrow counterparts (`int` < `float` < `complex`) when used with the binary arithmetic operators (`+`, `-`, `*`, `/`, `//`, and `%`).  \n",
    "\n",
    "All numbers (except `complex`) support all [arithmetic operations](https://docs.python.org/3/library/stdtypes.html#numeric-types-int-float-complex), evaluated according to [operator precedence](https://docs.python.org/3/reference/expressions.html#operator-precedence).  \n",
    "\n",
    "Support for mathematical functions (beyond +, -, /) for complex numbers can be found in the [cmath](https://docs.python.org/3.9/library/cmath.html) module."
   ]
  },
  {
   "cell_type": "code",
   "execution_count": 18,
   "metadata": {},
   "outputs": [
    {
     "data": {
      "text/plain": [
       "7.0"
      ]
     },
     "execution_count": 18,
     "metadata": {},
     "output_type": "execute_result"
    }
   ],
   "source": [
    "# The int is widened to a float here, and a float is returned.\n",
    "3 + 4.0"
   ]
  },
  {
   "cell_type": "code",
   "execution_count": 19,
   "metadata": {},
   "outputs": [
    {
     "data": {
      "text/plain": [
       "(1.3846153846153848-0.9230769230769231j)"
      ]
     },
     "execution_count": 19,
     "metadata": {},
     "output_type": "execute_result"
    }
   ],
   "source": [
    "# The int is widened to a complex number, and a complex number is returned.\n",
    "6/(3+2j)"
   ]
  },
  {
   "cell_type": "code",
   "execution_count": 20,
   "metadata": {},
   "outputs": [
    {
     "data": {
      "text/plain": [
       "3.0"
      ]
     },
     "execution_count": 20,
     "metadata": {},
     "output_type": "execute_result"
    }
   ],
   "source": [
    "# Division always returns a float, even if integers are used.\n",
    "6/2"
   ]
  },
  {
   "cell_type": "code",
   "execution_count": 22,
   "metadata": {},
   "outputs": [
    {
     "data": {
      "text/plain": [
       "3"
      ]
     },
     "execution_count": 22,
     "metadata": {},
     "output_type": "execute_result"
    }
   ],
   "source": [
    "# If an int result is needed, you can use floor division to truncate the result.\n",
    "6//2"
   ]
  },
  {
   "cell_type": "code",
   "execution_count": 23,
   "metadata": {},
   "outputs": [
    {
     "data": {
      "text/plain": [
       "True"
      ]
     },
     "execution_count": 23,
     "metadata": {},
     "output_type": "execute_result"
    }
   ],
   "source": [
    "# When comparing, exact values are used.\n",
    "23 == 0x17"
   ]
  },
  {
   "attachments": {},
   "cell_type": "markdown",
   "metadata": {},
   "source": [
    "## Exercises"
   ]
  },
  {
   "attachments": {},
   "cell_type": "markdown",
   "metadata": {},
   "source": [
    "### Collatz Conjecture"
   ]
  },
  {
   "attachments": {},
   "cell_type": "markdown",
   "metadata": {},
   "source": [
    "#### Instructions"
   ]
  },
  {
   "attachments": {},
   "cell_type": "markdown",
   "metadata": {},
   "source": [
    "The Collatz Conjecture or 3x+1 problem can be summarized as follows:\n",
    "\n",
    "Take any positive integer `n`. If `n` is even, divide `n` by 2 to get `n / 2`. If `n` is odd, multiply `n` by 3 and add 1 to get `3n + 1`. Repeat the process indefinitely. \n",
    "\n",
    "The conjecture states that no matter which number you start with, you will always reach 1 eventually.\n",
    "\n",
    "Given a number `n`, return the number of steps required to reach 1."
   ]
  },
  {
   "attachments": {},
   "cell_type": "markdown",
   "metadata": {},
   "source": [
    "#### Examples"
   ]
  },
  {
   "attachments": {},
   "cell_type": "markdown",
   "metadata": {},
   "source": [
    "Starting with n = 12, the steps would be as follows:\n",
    "0. 12\n",
    "1. 6\n",
    "2. 3\n",
    "3. 10\n",
    "4. 5\n",
    "5. 16\n",
    "6. 8\n",
    "7. 4\n",
    "8. 2\n",
    "9. 1\n",
    "\n",
    "Resulting in 9 steps. So for input `n = 12`, the return value would be 9."
   ]
  },
  {
   "attachments": {},
   "cell_type": "markdown",
   "metadata": {},
   "source": [
    "#### Exception Messages"
   ]
  },
  {
   "attachments": {},
   "cell_type": "markdown",
   "metadata": {},
   "source": [
    "Sometimes it is necessary to raise an exception. When you do this, you should always include a meaningful error message to indicate what the source of the error is. This makes your code more readable and helps significantly with debugging. For situations where you know that the error source will be a certain type, you can choose to raise one of the built in error types, but should still include a meaningful message.\n",
    "\n",
    "The Collatz Conjecture is only concerned with strictly positive integers, so this exercise expects you to use the raise statement and \"throw\" a ValueError in your solution if the given value is zero or a negative integer."
   ]
  },
  {
   "cell_type": "code",
   "execution_count": null,
   "metadata": {},
   "outputs": [],
   "source": [
    "def steps(number: int):\n",
    "    \"\"\"Given a number n, return the number of steps required to reach 1.\n",
    "\n",
    "    :param number: int, a positive integer\n",
    "\n",
    "    :return: int, the number of steps required to reach 1\n",
    "\n",
    "    :raises: ValueError, when the number is not greater than 0\n",
    "    \"\"\"\n",
    "    # When the input number is not greater than 0\n",
    "    if number <= 0:\n",
    "        # Raise a value error\n",
    "        raise ValueError(\"Only positive integers are allowed\")\n",
    "    # Initialize the steps counter at 0\n",
    "    counter = 0\n",
    "    # Loop until the number is equal to 1\n",
    "    while number != 1:\n",
    "        # When the number is even\n",
    "        if number % 2 == 0:\n",
    "            # Divide the number by 2\n",
    "            number /= 2\n",
    "            # Increase the step counter by 1\n",
    "            counter += 1\n",
    "        # When the number is odd\n",
    "        elif number % 2 != 0:\n",
    "            # Multiply the result by 3 and add 1\n",
    "            number = number * 3 + 1\n",
    "            # Increase the step counter by 1\n",
    "            counter += 1\n",
    "    # Returns the number of steps\n",
    "    return counter"
   ]
  },
  {
   "cell_type": "code",
   "execution_count": null,
   "metadata": {},
   "outputs": [],
   "source": [
    "steps(12)"
   ]
  },
  {
   "cell_type": "code",
   "execution_count": null,
   "metadata": {},
   "outputs": [],
   "source": [
    "steps(9)"
   ]
  },
  {
   "cell_type": "code",
   "execution_count": null,
   "metadata": {},
   "outputs": [],
   "source": [
    "steps(20)"
   ]
  },
  {
   "cell_type": "code",
   "execution_count": null,
   "metadata": {},
   "outputs": [],
   "source": [
    "steps(7)"
   ]
  },
  {
   "attachments": {},
   "cell_type": "markdown",
   "metadata": {},
   "source": [
    "### Grains"
   ]
  },
  {
   "attachments": {},
   "cell_type": "markdown",
   "metadata": {},
   "source": [
    "#### Instructions"
   ]
  },
  {
   "attachments": {},
   "cell_type": "markdown",
   "metadata": {},
   "source": [
    "A servant told a king that he would like to have grains of wheat. One grain on the first square of a chess board, with the number of grains doubling on each successive square.\n",
    "\n",
    "There are 64 squares on a chessboard, where:\n",
    "- Square #1 has 1 grain\n",
    "- Square #2 has 2 grains\n",
    "- Square #4 has 8 grains\n",
    "- Square #16 has 32768 grains...\n",
    "\n",
    "Write code that shows:\n",
    "\n",
    "- how many grains were on a given square, and\n",
    "- the total number of grains on the chessboard\n",
    "\n",
    "Include a meaningful error message to indicate what the source of the error is. This makes your code more readable and helps significantly with debugging. For situations where you know that the error source will be a certain type, you can choose to raise one of the built in error types, but should still include a meaningful message.\n",
    "\n",
    "This particular exercise requires that you use the raise statement to \"throw\" a ValueError when the square input is out of range. The tests will only pass if you both raise the exception and include a message with it.\n",
    "\n",
    "To raise a ValueError with a message, write the message as an argument to the exception type:"
   ]
  },
  {
   "cell_type": "code",
   "execution_count": null,
   "metadata": {},
   "outputs": [],
   "source": [
    "def square(number):\n",
    "    \"\"\"Calculates the number of wheat grains on a chessboard given that the number on each square doubles.\n",
    "\n",
    "    :param number: int - the chessboard square number.\n",
    "    :return: int - the number of grains on the given chessboard number.\n",
    "    \"\"\"\n",
    "    if number < 1 or number > 64:\n",
    "        raise ValueError(\"square must be between 1 and 64\")\n",
    "    else:\n",
    "        return int((2 ** number) / 2)"
   ]
  },
  {
   "cell_type": "code",
   "execution_count": null,
   "metadata": {},
   "outputs": [],
   "source": [
    "square(16)"
   ]
  },
  {
   "cell_type": "code",
   "execution_count": null,
   "metadata": {},
   "outputs": [],
   "source": [
    "square(32)"
   ]
  },
  {
   "cell_type": "code",
   "execution_count": null,
   "metadata": {},
   "outputs": [],
   "source": [
    "def total():\n",
    "    \"\"\"Calculate the total number of grains on a chessboard.\n",
    "    \"\"\"\n",
    "    total_grains = 0\n",
    "    for i in range(1, 65):\n",
    "        total_grains += square(i)\n",
    "    return total_grains"
   ]
  },
  {
   "cell_type": "code",
   "execution_count": null,
   "metadata": {},
   "outputs": [],
   "source": [
    "total()"
   ]
  },
  {
   "attachments": {},
   "cell_type": "markdown",
   "metadata": {},
   "source": [
    "### Squares Differences"
   ]
  },
  {
   "attachments": {},
   "cell_type": "markdown",
   "metadata": {},
   "source": [
    "#### Instructions"
   ]
  },
  {
   "attachments": {},
   "cell_type": "markdown",
   "metadata": {},
   "source": [
    "Find the difference between the square of the sum and the sum of the squares of the first N natural numbers.\n",
    "\n",
    "The square of the sum of the first ten natural numbers is (1 + 2 + ... + 10)² = 55² = 3025.\n",
    "\n",
    "The sum of the squares of the first ten natural numbers is 1² + 2² + ... + 10² = 385.\n",
    "\n",
    "Hence the difference between the square of the sum of the first ten natural numbers and the sum of the squares of the first ten natural numbers is 3025 - 385 = 2640.\n",
    "\n",
    "You are not expected to discover an efficient solution to this yourself from first principles; research is allowed, indeed, encouraged. Finding the best algorithm for the problem is a key skill in software engineering."
   ]
  },
  {
   "cell_type": "code",
   "execution_count": null,
   "metadata": {},
   "outputs": [],
   "source": [
    "def square_of_sum(number):\n",
    "    nums_sequence = [i for i in range(1, number + 1)]\n",
    "    result = sum(nums_sequence) ** 2\n",
    "    return result\n",
    "\n",
    "\n",
    "def sum_of_squares(number):\n",
    "    squared_sequence = [i**2 for i in range(1, number + 1)]\n",
    "    result = sum(squared_sequence)\n",
    "    return result\n",
    "\n",
    "\n",
    "def difference_of_squares(number):\n",
    "    return square_of_sum(number) - sum_of_squares(number)"
   ]
  },
  {
   "cell_type": "code",
   "execution_count": null,
   "metadata": {},
   "outputs": [],
   "source": [
    "square_of_sum(10)"
   ]
  },
  {
   "cell_type": "code",
   "execution_count": null,
   "metadata": {},
   "outputs": [],
   "source": [
    "sum_of_squares(10)"
   ]
  },
  {
   "cell_type": "code",
   "execution_count": null,
   "metadata": {},
   "outputs": [],
   "source": [
    "difference_of_squares(10)"
   ]
  }
 ],
 "metadata": {
  "kernelspec": {
   "display_name": "Python 3.9.7 64-bit",
   "language": "python",
   "name": "python3"
  },
  "language_info": {
   "codemirror_mode": {
    "name": "ipython",
    "version": 3
   },
   "file_extension": ".py",
   "mimetype": "text/x-python",
   "name": "python",
   "nbconvert_exporter": "python",
   "pygments_lexer": "ipython3",
   "version": "3.9.7"
  },
  "orig_nbformat": 4,
  "vscode": {
   "interpreter": {
    "hash": "aee8b7b246df8f9039afb4144a1f6fd8d2ca17a180786b69acc140d282b71a49"
   }
  }
 },
 "nbformat": 4,
 "nbformat_minor": 2
}
