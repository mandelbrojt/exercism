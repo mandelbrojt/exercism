{
 "cells": [
  {
   "attachments": {},
   "cell_type": "markdown",
   "metadata": {},
   "source": [
    "# Instructions\n",
    "\n",
    "Alice and Bob use [Diffie-Hellman](https://en.wikipedia.org/wiki/Diffie%E2%80%93Hellman_key_exchange) key exchange to share secrets. They start with prime numbers, pick private keys, generate and share public keys, and then generate a shared secret key.\n",
    "\n",
    "### **Step 0**\n",
    "The test program supplies prime numbers `p` and `g`.\n",
    "\n",
    "### **Step 1**\n",
    "Alice picks a private key, `a`, greater than 1 and less than `p`. Bob does the same to pick a private key `b`.\n",
    "\n",
    "### **Step 2**\n",
    "Alice calculates a public key A.\n",
    "\n",
    "`A = gᵃ mod p`\n",
    "\n",
    "Using the same `p` and `g`, Bob similarly calculates a public key B from his private key `b`.\n",
    "\n",
    "### **Step 3**\n",
    "Alice and Bob exchange public keys. Alice calculates secret key `s`.\n",
    "\n",
    "`s = Bᵃ mod p`\n",
    "\n",
    "Bob calculates\n",
    "\n",
    "`s = Aᵇ mod p`\n",
    "\n",
    "The calculations produce the same result! Alice and Bob now share secret `s`."
   ]
  },
  {
   "attachments": {},
   "cell_type": "markdown",
   "metadata": {},
   "source": [
    "## Notes\n",
    "Python, as of version 3.6, includes two different random modules.\n",
    "\n",
    "The module called `random` is pseudo-random, meaning it does not generate true randomness, but follows an algorithm that simulates randomness. Since random numbers are generated through a known algorithm, they are not truly random.\n",
    "\n",
    "The `random` module is not correctly suited for cryptography and should not be used, precisely because it is pseudo-random.\n",
    "\n",
    "For this reason, in version 3.6, Python introduced the `secrets` module, which generates cryptographically strong random numbers that provide the greater security required for cryptography.\n",
    "\n",
    "Since this is only an exercise, `random` is fine to use, but **note that it would be very insecure if actually used for cryptography**."
   ]
  }
 ],
 "metadata": {
  "kernelspec": {
   "display_name": "Python 3",
   "language": "python",
   "name": "python3"
  },
  "language_info": {
   "codemirror_mode": {
    "name": "ipython",
    "version": 3
   },
   "file_extension": ".py",
   "mimetype": "text/x-python",
   "name": "python",
   "nbconvert_exporter": "python",
   "pygments_lexer": "ipython3",
   "version": "3.9.7"
  },
  "orig_nbformat": 4,
  "vscode": {
   "interpreter": {
    "hash": "aee8b7b246df8f9039afb4144a1f6fd8d2ca17a180786b69acc140d282b71a49"
   }
  }
 },
 "nbformat": 4,
 "nbformat_minor": 2
}
