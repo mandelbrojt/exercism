{
 "cells": [
  {
   "cell_type": "markdown",
   "metadata": {},
   "source": [
    "# Instructions\n",
    "A servant told a king that he would like to have grains of wheat. One grain on the first square of a chess board, with the number of grains doubling on each successive square.\n",
    "\n",
    "There are 64 squares on a chessboard, where:\n",
    "- Square #1 has 1 grain\n",
    "- Square #2 has 2 grains\n",
    "- Square #4 has 8 grains\n",
    "- Square #16 has 32768 grains...\n",
    "\n",
    "Write code that shows:\n",
    "\n",
    "- how many grains were on a given square, and\n",
    "- the total number of grains on the chessboard\n",
    "\n",
    "Include a meaningful error message to indicate what the source of the error is. This makes your code more readable and helps significantly with debugging. For situations where you know that the error source will be a certain type, you can choose to raise one of the built in error types, but should still include a meaningful message.\n",
    "\n",
    "This particular exercise requires that you use the raise statement to \"throw\" a ValueError when the square input is out of range. The tests will only pass if you both raise the exception and include a message with it.\n",
    "\n",
    "To raise a ValueError with a message, write the message as an argument to the exception type:"
   ]
  },
  {
   "cell_type": "code",
   "execution_count": 3,
   "metadata": {},
   "outputs": [],
   "source": [
    "def square(number):\n",
    "    \"\"\"Calculates the number of wheat grains on a chessboard given that the number on each square doubles.\n",
    "\n",
    "    :param number: int - the chessboard square number.\n",
    "    :return: int - the number of grains on the given chessboard number.\n",
    "    \"\"\"\n",
    "    if number < 1 or number > 64:\n",
    "        raise ValueError(\"square must be between 1 and 64\")\n",
    "    else:\n",
    "        return int((2 ** number) / 2)"
   ]
  },
  {
   "cell_type": "code",
   "execution_count": 6,
   "metadata": {},
   "outputs": [
    {
     "data": {
      "text/plain": [
       "32768"
      ]
     },
     "execution_count": 6,
     "metadata": {},
     "output_type": "execute_result"
    }
   ],
   "source": [
    "square(16)"
   ]
  },
  {
   "cell_type": "code",
   "execution_count": 7,
   "metadata": {},
   "outputs": [
    {
     "data": {
      "text/plain": [
       "2147483648"
      ]
     },
     "execution_count": 7,
     "metadata": {},
     "output_type": "execute_result"
    }
   ],
   "source": [
    "square(32)"
   ]
  },
  {
   "cell_type": "code",
   "execution_count": 4,
   "metadata": {},
   "outputs": [],
   "source": [
    "def total():\n",
    "    \"\"\"Calculate the total number of grains on a chessboard.\n",
    "    \"\"\"\n",
    "    total_grains = 0\n",
    "    for i in range(1, 65):\n",
    "        total_grains += square(i)\n",
    "    return total_grains"
   ]
  },
  {
   "cell_type": "code",
   "execution_count": 5,
   "metadata": {},
   "outputs": [
    {
     "data": {
      "text/plain": [
       "18446744073709551615"
      ]
     },
     "execution_count": 5,
     "metadata": {},
     "output_type": "execute_result"
    }
   ],
   "source": [
    "total()"
   ]
  }
 ],
 "metadata": {
  "kernelspec": {
   "display_name": "Python 3.9.7 64-bit",
   "language": "python",
   "name": "python3"
  },
  "language_info": {
   "codemirror_mode": {
    "name": "ipython",
    "version": 3
   },
   "file_extension": ".py",
   "mimetype": "text/x-python",
   "name": "python",
   "nbconvert_exporter": "python",
   "pygments_lexer": "ipython3",
   "version": "3.9.7"
  },
  "orig_nbformat": 4,
  "vscode": {
   "interpreter": {
    "hash": "aee8b7b246df8f9039afb4144a1f6fd8d2ca17a180786b69acc140d282b71a49"
   }
  }
 },
 "nbformat": 4,
 "nbformat_minor": 2
}
