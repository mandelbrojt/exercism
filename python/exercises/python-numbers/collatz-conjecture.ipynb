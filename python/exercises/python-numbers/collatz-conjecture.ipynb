{
 "cells": [
  {
   "attachments": {},
   "cell_type": "markdown",
   "metadata": {},
   "source": [
    "# Instructions\n",
    "The Collatz Conjecture or 3x+1 problem can be summarized as follows:\n",
    "\n",
    "Take any positive integer `n`. If `n` is even, divide `n` by 2 to get `n / 2`. If `n` is odd, multiply `n` by 3 and add 1 to get `3n + 1`. Repeat the process indefinitely. \n",
    "\n",
    "The conjecture states that no matter which number you start with, you will always reach 1 eventually.\n",
    "\n",
    "Given a number `n`, return the number of steps required to reach 1.\n",
    "\n",
    "## Examples\n",
    "Starting with n = 12, the steps would be as follows:\n",
    "0. 12\n",
    "1. 6\n",
    "2. 3\n",
    "3. 10\n",
    "4. 5\n",
    "5. 16\n",
    "6. 8\n",
    "7. 4\n",
    "8. 2\n",
    "9. 1\n",
    "\n",
    "Resulting in 9 steps. So for input `n = 12`, the return value would be 9.\n",
    "\n",
    "## Exception messages\n",
    "Sometimes it is necessary to raise an exception. When you do this, you should always include a meaningful error message to indicate what the source of the error is. This makes your code more readable and helps significantly with debugging. For situations where you know that the error source will be a certain type, you can choose to raise one of the built in error types, but should still include a meaningful message.\n",
    "\n",
    "The Collatz Conjecture is only concerned with strictly positive integers, so this exercise expects you to use the raise statement and \"throw\" a ValueError in your solution if the given value is zero or a negative integer."
   ]
  },
  {
   "cell_type": "code",
   "execution_count": 3,
   "metadata": {},
   "outputs": [],
   "source": [
    "def steps(number: int):\n",
    "    \"\"\"Given a number n, return the number of steps required to reach 1.\n",
    "\n",
    "    :param number: int, a positive integer\n",
    "\n",
    "    :return: int, the number of steps required to reach 1\n",
    "\n",
    "    :raises: ValueError, when the number is not greater than 0\n",
    "    \"\"\"\n",
    "    # When the input number is not greater than 0\n",
    "    if number <= 0:\n",
    "        # Raise a value error\n",
    "        raise ValueError(\"Only positive integers are allowed\")\n",
    "    # Initialize the steps counter at 0\n",
    "    counter = 0\n",
    "    # Loop until the number is equal to 1\n",
    "    while number != 1:\n",
    "        # When the number is even\n",
    "        if number % 2 == 0:\n",
    "            # Divide the number by 2\n",
    "            number /= 2\n",
    "            # Increase the step counter by 1\n",
    "            counter += 1\n",
    "        # When the number is odd\n",
    "        elif number % 2 != 0:\n",
    "            # Multiply the result by 3 and add 1\n",
    "            number = number * 3 + 1\n",
    "            # Increase the step counter by 1\n",
    "            counter += 1\n",
    "    # Returns the number of steps\n",
    "    return counter"
   ]
  },
  {
   "cell_type": "code",
   "execution_count": 4,
   "metadata": {},
   "outputs": [
    {
     "data": {
      "text/plain": [
       "9"
      ]
     },
     "execution_count": 4,
     "metadata": {},
     "output_type": "execute_result"
    }
   ],
   "source": [
    "steps(12)"
   ]
  },
  {
   "cell_type": "code",
   "execution_count": 5,
   "metadata": {},
   "outputs": [
    {
     "data": {
      "text/plain": [
       "19"
      ]
     },
     "execution_count": 5,
     "metadata": {},
     "output_type": "execute_result"
    }
   ],
   "source": [
    "steps(9)"
   ]
  },
  {
   "cell_type": "code",
   "execution_count": 6,
   "metadata": {},
   "outputs": [
    {
     "data": {
      "text/plain": [
       "7"
      ]
     },
     "execution_count": 6,
     "metadata": {},
     "output_type": "execute_result"
    }
   ],
   "source": [
    "steps(20)"
   ]
  },
  {
   "cell_type": "code",
   "execution_count": 12,
   "metadata": {},
   "outputs": [
    {
     "data": {
      "text/plain": [
       "16"
      ]
     },
     "execution_count": 12,
     "metadata": {},
     "output_type": "execute_result"
    }
   ],
   "source": [
    "steps(7)"
   ]
  }
 ],
 "metadata": {
  "kernelspec": {
   "display_name": "Python 3",
   "language": "python",
   "name": "python3"
  },
  "language_info": {
   "codemirror_mode": {
    "name": "ipython",
    "version": 3
   },
   "file_extension": ".py",
   "mimetype": "text/x-python",
   "name": "python",
   "nbconvert_exporter": "python",
   "pygments_lexer": "ipython3",
   "version": "3.9.7"
  },
  "orig_nbformat": 4,
  "vscode": {
   "interpreter": {
    "hash": "aee8b7b246df8f9039afb4144a1f6fd8d2ca17a180786b69acc140d282b71a49"
   }
  }
 },
 "nbformat": 4,
 "nbformat_minor": 2
}
