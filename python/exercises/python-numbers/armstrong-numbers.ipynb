{
 "cells": [
  {
   "cell_type": "markdown",
   "metadata": {},
   "source": [
    "An [Armstrong number](https://en.wikipedia.org/wiki/Narcissistic_number) is a number that is the sum of its own digits each raised to the power of the number of digits.\n",
    "\n",
    "For example:\n",
    "\n",
    "9 is an Armstrong number, because 9 = 9^1 = 9\n",
    "10 is not an Armstrong number, because 10 != 1^2 + 0^2 = 1\n",
    "153 is an Armstrong number, because: 153 = 1^3 + 5^3 + 3^3 = 1 + 125 + 27 = 153\n",
    "154 is not an Armstrong number, because: 154 != 1^3 + 5^3 + 4^3 = 1 + 125 + 64 = 190\n",
    "\n",
    "> **Instructions**: Write some code to determine whether a number is an Armstrong number."
   ]
  },
  {
   "cell_type": "code",
   "execution_count": null,
   "metadata": {},
   "outputs": [],
   "source": []
  }
 ],
 "metadata": {
  "language_info": {
   "name": "python"
  },
  "orig_nbformat": 4
 },
 "nbformat": 4,
 "nbformat_minor": 2
}
