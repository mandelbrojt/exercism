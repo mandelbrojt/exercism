{
 "cells": [
  {
   "cell_type": "markdown",
   "metadata": {},
   "source": [
    "# [Numeric Types](https://docs.python.org/3/library/stdtypes.html#typesnumeric)\n",
    "\n",
    "There are 3 different kinds of built-in numbers in Python:\n",
    "- `int`: are whole numbers.  \n",
    "    - `bool`: are a subtype of integers.  \n",
    "- `float`: are numbers containing a decimal point.  \n",
    "- `complex`: have a real and imaginary part.  "
   ]
  },
  {
   "cell_type": "markdown",
   "metadata": {},
   "source": [
    "Python considers ints narrower than floats.  \n",
    "So, using a float in an expression ensures the result will be a float too.  \n",
    "However, when doing division, the result will always be a float, even if only integers are used."
   ]
  }
 ],
 "metadata": {
  "kernelspec": {
   "display_name": "Python 3.9.7 64-bit",
   "language": "python",
   "name": "python3"
  },
  "language_info": {
   "name": "python",
   "version": "3.9.7"
  },
  "orig_nbformat": 4,
  "vscode": {
   "interpreter": {
    "hash": "aee8b7b246df8f9039afb4144a1f6fd8d2ca17a180786b69acc140d282b71a49"
   }
  }
 },
 "nbformat": 4,
 "nbformat_minor": 2
}
